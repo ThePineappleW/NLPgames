{
 "cells": [
  {
   "cell_type": "markdown",
   "id": "be0a01c3-09d2-46bb-aeae-b594364d1e64",
   "metadata": {},
   "source": [
    "# Relationle\n",
    "\n",
    "### (Working Title)\n",
    "\n",
    "---\n",
    "\n",
    "Relationle is kind of like reverse-Semantle. Instead of guessing a word based on other similar words, you are given the base word from the beginning. Your goal is to craft a unique definition for your word, based on a few types of relationships to other words.\n",
    "\n",
    "Guesses will be scored based on how many clauses they use, and how many words they capture: the goal is to use as few clauses as possible to capture exactly one target word."
   ]
  },
  {
   "cell_type": "code",
   "execution_count": 1,
   "id": "85785fba-8887-4084-a44a-6e84e9257494",
   "metadata": {},
   "outputs": [],
   "source": [
    "import requests\n",
    "import time\n",
    "from random import choice, shuffle\n",
    "import re\n",
    "from nltk.corpus import words"
   ]
  },
  {
   "cell_type": "code",
   "execution_count": 2,
   "id": "697a2814-acae-4f17-8379-e634e608bf6f",
   "metadata": {},
   "outputs": [],
   "source": [
    "def conceptnet(term: str, lang:str='en', all_results=True, verbose=False) -> dict:\n",
    "    if verbose:\n",
    "        print(f'Querying term \"{term}\"')\n",
    "        start = time.time()\n",
    "    res = requests.get(f'http://api.conceptnet.io/c/{lang}/{term}')\n",
    "    if verbose:\n",
    "        elapsed = time.time() - start\n",
    "        print(f'Response received after {elapsed}s.')\n",
    "    return res.json()\n",
    "\n",
    "def conceptnet_query(query, lang='en', verbose=False):\n",
    "    if verbose:\n",
    "        print(f'Querying {query}')\n",
    "        start = time.time()\n",
    "    res = requests.get(query)\n",
    "    if verbose:\n",
    "        elapsed = time.time() - start\n",
    "        print(f'Response received after {elapsed}s.')\n",
    "    return res.json()"
   ]
  },
  {
   "cell_type": "code",
   "execution_count": 3,
   "id": "17f278b7-173d-4ffd-80fc-158d9d0e6650",
   "metadata": {},
   "outputs": [],
   "source": [
    "def labels(res, as_tuple=True):\n",
    "    output = []\n",
    "    edges = res['edges']\n",
    "    for edge in edges:\n",
    "        start = edge['start']['label']\n",
    "        end   = edge['end']['label']\n",
    "        rel   = edge['rel']['label']\n",
    "        \n",
    "        if as_tuple:\n",
    "            output.append((start, rel, end))\n",
    "        else:\n",
    "            output.append(f'{start} {rel} {end}')\n",
    "    return output"
   ]
  },
  {
   "cell_type": "code",
   "execution_count": 4,
   "id": "642aff40-39bc-4ee5-94af-5838f7042709",
   "metadata": {},
   "outputs": [],
   "source": [
    "class QueryBuilder:\n",
    "    def __init__(self, lang='en'):\n",
    "        self.params = {}\n",
    "        self.lang = lang\n",
    "\n",
    "    def start(self, uri):\n",
    "        self.params['start'] = uri\n",
    "\n",
    "    def end(self, uri):\n",
    "        self.params['end'] = uri\n",
    "\n",
    "    def rel(self, relation):\n",
    "        self.params['rel'] = relation\n",
    "\n",
    "    def node(self, uri):\n",
    "        self.params['node'] = uri\n",
    "\n",
    "    def other(self, uri):\n",
    "        self.params['other'] = uri\n",
    "\n",
    "    def sources(self, uri):\n",
    "        self.params['sources'] = uri\n",
    "\n",
    "    def clear(self):\n",
    "        self.params = {}\n",
    "    \n",
    "    def _format_param(self, param, value):\n",
    "        if param == 'rel':\n",
    "            return f'rel=/r/{value}'\n",
    "        elif param == 'source':\n",
    "            return f'source=/s/contributor/{value}'\n",
    "        else:\n",
    "            return f'{param}=/c/{self.lang}/{value}'\n",
    "            \n",
    "    def query(self):\n",
    "        base_url = 'http://api.conceptnet.io/query?'\n",
    "        query_params = '&'.join([self._format_param(p, v) for p, v in self.params.items()])\n",
    "        return base_url + query_params\n",
    "\n",
    "    def clause(self):\n",
    "        \"\"\"\n",
    "        A query is just a raw query.\n",
    "        A clause is a predicate. \n",
    "        As such, a relation is required, and either start or end must be supplied, but not both.\n",
    "        \"\"\"\n",
    "        assert 'rel' in self.params\n",
    "        assert bool('start' in self.params) != bool('end' in self.params)       \n",
    "\n",
    "        return self.query(), 'start' if 'start' in self.params else 'end'"
   ]
  },
  {
   "cell_type": "code",
   "execution_count": 5,
   "id": "d5bbeddd-7223-41b0-b97d-eb4c10c0c7aa",
   "metadata": {},
   "outputs": [],
   "source": [
    "def normalize(word):\n",
    "    word = word.lower()\n",
    "    word = re.sub('^an? ', '', word)\n",
    "    return word"
   ]
  },
  {
   "cell_type": "code",
   "execution_count": 20,
   "id": "c49b6304-5389-48c0-880a-bae6c212e1be",
   "metadata": {},
   "outputs": [],
   "source": [
    "class Definition:\n",
    "    def __init__(self, word):\n",
    "        self.word = word\n",
    "        # Clauses where the start is known\n",
    "        self.clauses=[]\n",
    "        # Clauses where the end is known\n",
    "        self.end_clauses = []\n",
    "    \n",
    "    def add_clause(self, clause):\n",
    "        assert self.word not in clause[0]\n",
    "        self.clauses.append(clause)\n",
    "    \n",
    "    def evaluate(self):\n",
    "        clause_sets = []\n",
    "\n",
    "        for q, d in self.clauses:\n",
    "            edges = labels(conceptnet_query(q))\n",
    "            target_idx = 0 if d == 'end' else 2\n",
    "            targets = set([normalize(e[target_idx]) for e in edges])\n",
    "            clause_sets.append(targets)\n",
    "\n",
    "        words = set.intersection(*clause_sets)\n",
    "\n",
    "        if self.word in words and len(words) == 1:\n",
    "            print('You win!')\n",
    "        return words\n",
    "        "
   ]
  },
  {
   "cell_type": "code",
   "execution_count": 26,
   "id": "ef9822fe-07ca-47d7-a340-9d1eabdc46ed",
   "metadata": {
    "scrolled": true
   },
   "outputs": [
    {
     "data": {
      "text/plain": [
       "set()"
      ]
     },
     "execution_count": 26,
     "metadata": {},
     "output_type": "execute_result"
    }
   ],
   "source": [
    "d = Definition('lion')\n",
    "q = QueryBuilder()\n",
    "\n",
    "q.end('feline')\n",
    "q.rel('IsA')\n",
    "c1 = q.clause()\n",
    "q.clear()\n",
    "\n",
    "q.end('murder')\n",
    "q.rel('PartOf')\n",
    "c2 = q.clause()\n",
    "q.clear()\n",
    "\n",
    "# d.add_clause(c1)\n",
    "d.add_clause(c2)\n",
    "\n",
    "d.evaluate()"
   ]
  }
 ],
 "metadata": {
  "kernelspec": {
   "display_name": "Python 3 (ipykernel)",
   "language": "python",
   "name": "python3"
  },
  "language_info": {
   "codemirror_mode": {
    "name": "ipython",
    "version": 3
   },
   "file_extension": ".py",
   "mimetype": "text/x-python",
   "name": "python",
   "nbconvert_exporter": "python",
   "pygments_lexer": "ipython3",
   "version": "3.12.3"
  }
 },
 "nbformat": 4,
 "nbformat_minor": 5
}
