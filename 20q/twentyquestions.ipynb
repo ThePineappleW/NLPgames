{
 "cells": [
  {
   "cell_type": "markdown",
   "id": "8133ce14-7d5d-4e9e-923b-00590994d08a",
   "metadata": {},
   "source": [
    "# 20 Questions"
   ]
  },
  {
   "cell_type": "markdown",
   "id": "99a751c6-e0e0-4f51-9e1e-32270a121444",
   "metadata": {},
   "source": [
    "The intuition behind the algorithm is simple:\n",
    "1. View WordNet as a collection of trees. Words are nodes. Relations are edges.\n",
    "2. To formulate a question: Find the largest subtree. Query that relation.\n",
    "3. To process the answer: If 'yes', enter the subtree. If 'no', backtrack to 2."
   ]
  },
  {
   "cell_type": "code",
   "execution_count": 1,
   "id": "ed42ea27-7ab5-4365-b297-f0bd7861f277",
   "metadata": {},
   "outputs": [],
   "source": [
    "import nltk\n",
    "from nltk.corpus import wordnet as wn"
   ]
  },
  {
   "cell_type": "code",
   "execution_count": 2,
   "id": "5ce31681-f2a4-4714-a0e0-765a6a0bf68a",
   "metadata": {},
   "outputs": [
    {
     "name": "stderr",
     "output_type": "stream",
     "text": [
      "[nltk_data] Downloading package wordnet to\n",
      "[nltk_data]     C:\\Users\\zivlabstudent\\AppData\\Roaming\\nltk_data...\n"
     ]
    },
    {
     "data": {
      "text/plain": [
       "True"
      ]
     },
     "execution_count": 2,
     "metadata": {},
     "output_type": "execute_result"
    }
   ],
   "source": [
    "nltk.download('wordnet')"
   ]
  },
  {
   "cell_type": "code",
   "execution_count": 4,
   "id": "4e4d518a-dc95-4639-b352-078bcaea2ed8",
   "metadata": {},
   "outputs": [
    {
     "data": {
      "text/plain": [
       "'pancake batter baked in a waffle iron'"
      ]
     },
     "execution_count": 4,
     "metadata": {},
     "output_type": "execute_result"
    }
   ],
   "source": [
    "wn.synset('waffle.n.01').definition()"
   ]
  },
  {
   "cell_type": "code",
   "execution_count": 17,
   "id": "ad8fa5b9-bcea-4e2c-b53f-8ee2d515197b",
   "metadata": {},
   "outputs": [],
   "source": [
    "class Node:\n",
    "    def __init__(self, label: str, definition: str, children=()):\n",
    "        self.label = label\n",
    "        self.definition = definition\n",
    "        self.children = children\n",
    "\n",
    "    def name(self):\n",
    "        return self.label.rsplit('.')[0].replace('_', ' ')\n",
    "\n",
    "    def defn(self):\n",
    "        return self.definition\n",
    "    \n",
    "    def count(self):\n",
    "        # vacuously returns 1\n",
    "        return 1 + sum([c.count() for c in self.children])\n",
    "    \n",
    "    def find(self, target, path):\n",
    "        if self.label == target:\n",
    "            return path + [self.label]\n",
    "        elif len(self.children) == 0:\n",
    "            return []\n",
    "        else:\n",
    "            for child in self.children:\n",
    "                c = child.find(target, path + [self.label])\n",
    "                if len(c) > 0:\n",
    "                    return c\n",
    "            return []\n",
    "            "
   ]
  },
  {
   "cell_type": "code",
   "execution_count": 18,
   "id": "3b187d0c-e935-4c87-86b5-c8f3cc4e58e4",
   "metadata": {},
   "outputs": [],
   "source": [
    "# Only run on nouns!\n",
    "def build_tree(root):\n",
    "    hyponyms = root.hyponyms()\n",
    "    if len(hyponyms) == 0:\n",
    "        return Node(root.name(), root.definition())\n",
    "    else:\n",
    "        return Node(root.name(), root.definition(), [build_tree(child) for child in hyponyms])"
   ]
  },
  {
   "cell_type": "code",
   "execution_count": 113,
   "id": "4eaebaf1-99e1-4994-af8e-f1d9050a4ef0",
   "metadata": {},
   "outputs": [],
   "source": [
    "POS = ('yes', 'y')\n",
    "NEG = ('no', 'n')\n",
    "\n",
    "def play_game(root=wn.synset('entity.n.01')):   \n",
    "    tree = build_tree(root)\n",
    "    subtree_ind = 0\n",
    "    \n",
    "    correct = False\n",
    "    q_num = 0\n",
    "    \n",
    "    while not correct:\n",
    "        subtrees = sorted(tree.children, key=Node.count, reverse=True)\n",
    "\n",
    "        if len(subtrees) == 0:\n",
    "            print(f'I win in {q_num} guesses! Your word is: {tree.name()}')\n",
    "            return\n",
    "        \n",
    "        if subtree_ind >= len(subtrees):\n",
    "            print('I could not guess your word :(')\n",
    "            return\n",
    "\n",
    "        current_topic = subtrees[subtree_ind]\n",
    "        \n",
    "        q_num += 1\n",
    "        response = input(f'Question {q_num}: Is it a {current_topic.name()}?')\n",
    "\n",
    "        if response.endswith('!'):\n",
    "            print(f'I win in {q_num} guesses! Your word is \"{current_topic.name()}\"!')\n",
    "        if response in POS:\n",
    "            tree = current_topic\n",
    "            subtree_ind = 0\n",
    "        elif response in NEG:\n",
    "            subtree_ind += 1\n",
    "        else:\n",
    "            print(f'\\tA \"{current_topic.name()}\" is \"{current_topic.definition}\"')\n",
    "            q_num -= 1"
   ]
  },
  {
   "cell_type": "code",
   "execution_count": 114,
   "id": "7c374207-7818-48ce-9e65-a91ddb898a97",
   "metadata": {},
   "outputs": [
    {
     "name": "stdin",
     "output_type": "stream",
     "text": [
      "Question 1: Is it a tom? n\n",
      "Question 2: Is it a siamese cat? ?\n"
     ]
    },
    {
     "name": "stdout",
     "output_type": "stream",
     "text": [
      "\tA \"siamese cat\" is \"a slender short-haired blue-eyed breed of cat having a pale coat with dark ears paws face and tail tip\"\n"
     ]
    },
    {
     "name": "stdin",
     "output_type": "stream",
     "text": [
      "Question 2: Is it a siamese cat? n\n",
      "Question 3: Is it a manx? ?\n"
     ]
    },
    {
     "name": "stdout",
     "output_type": "stream",
     "text": [
      "\tA \"manx\" is \"a short-haired tailless breed of cat believed to originate on the Isle of Man\"\n"
     ]
    },
    {
     "name": "stdin",
     "output_type": "stream",
     "text": [
      "Question 3: Is it a manx? y\n"
     ]
    },
    {
     "name": "stdout",
     "output_type": "stream",
     "text": [
      "I win in 3 guesses! Your word is: manx\n"
     ]
    }
   ],
   "source": [
    "play_game(wn.synset('domestic_cat.n.01'))"
   ]
  },
  {
   "cell_type": "code",
   "execution_count": 20,
   "id": "893abe8b-55bd-49d6-9ffd-44ed25997f81",
   "metadata": {},
   "outputs": [],
   "source": [
    "t = build_tree(wn.synset('entity.n.01'))"
   ]
  },
  {
   "cell_type": "code",
   "execution_count": 22,
   "id": "6839d342-1183-4b13-9e06-d0dba50694c4",
   "metadata": {},
   "outputs": [
    {
     "data": {
      "text/plain": [
       "['entity.n.01',\n",
       " 'physical_entity.n.01',\n",
       " 'matter.n.03',\n",
       " 'solid.n.01',\n",
       " 'food.n.02',\n",
       " 'baked_goods.n.01',\n",
       " 'cake.n.03',\n",
       " 'waffle.n.01']"
      ]
     },
     "execution_count": 22,
     "metadata": {},
     "output_type": "execute_result"
    }
   ],
   "source": [
    "t.find('waffle.n.01', [])"
   ]
  }
 ],
 "metadata": {
  "kernelspec": {
   "display_name": "Python 3 (ipykernel)",
   "language": "python",
   "name": "python3"
  },
  "language_info": {
   "codemirror_mode": {
    "name": "ipython",
    "version": 3
   },
   "file_extension": ".py",
   "mimetype": "text/x-python",
   "name": "python",
   "nbconvert_exporter": "python",
   "pygments_lexer": "ipython3",
   "version": "3.12.5"
  }
 },
 "nbformat": 4,
 "nbformat_minor": 5
}
