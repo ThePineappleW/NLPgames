{
 "cells": [
  {
   "cell_type": "markdown",
   "id": "f0724a6c-7122-4094-8976-44ee96a748dd",
   "metadata": {},
   "source": [
    "# Connections using ConceptNet\n",
    "\n",
    "The goal is to pick a term for a category, then to pick a set of terms that all share some (perhaps the same) relation with the former."
   ]
  },
  {
   "cell_type": "code",
   "execution_count": 5,
   "id": "ef974c0d-2347-4851-83ad-68dfe9e63586",
   "metadata": {},
   "outputs": [],
   "source": [
    "import requests\n",
    "import time"
   ]
  },
  {
   "cell_type": "code",
   "execution_count": 59,
   "id": "b87a4960-6e2f-48c9-9454-30ed18927359",
   "metadata": {},
   "outputs": [],
   "source": [
    "def conceptnet(term: str, lang:str='en', all_results=True, verbose=False) -> dict:\n",
    "    if verbose:\n",
    "        print(f'Querying term \"{term}\"')\n",
    "        start = time.time()\n",
    "    res = requests.get(f'http://api.conceptnet.io/c/{lang}/{term}')\n",
    "    if verbose:\n",
    "        elapsed = time.time() - start\n",
    "        print(f'Response received after {elapsed}s.')\n",
    "    return res.json()\n",
    "\n"
   ]
  },
  {
   "cell_type": "code",
   "execution_count": 20,
   "id": "b6600c6d-022d-4353-a659-ce96c75fb372",
   "metadata": {},
   "outputs": [],
   "source": [
    "word = conceptnet('word')"
   ]
  },
  {
   "cell_type": "code",
   "execution_count": 58,
   "id": "17c8e919-46c3-4242-8ffa-73a893ec1efd",
   "metadata": {},
   "outputs": [
    {
     "name": "stdout",
     "output_type": "stream",
     "text": [
      "a word PartOf a sentence\n",
      "a verb IsA a word\n",
      "a letter PartOf a word\n",
      "A word PartOf language\n",
      "word RelatedTo sentence\n",
      "a word CapableOf mean things\n",
      "earth IsA a word\n",
      "a word CapableOf mean more than one thing\n",
      "a word IsA a piece of a sentence\n",
      "語 Synonym word\n",
      "word RelatedTo language\n",
      "word RelatedTo unit\n",
      "word RelatedTo part\n",
      "four-letter word IsA word\n",
      "terminology IsA word\n",
      "metonym IsA word\n",
      "form IsA word\n",
      "word RelatedTo scripture\n",
      "synonym IsA word\n",
      "loanword IsA word\n",
      "poručivati RelatedTo word\n",
      "terme Synonym word\n",
      "oxytone IsA word\n",
      "janji Synonym word\n",
      "primitive IsA word\n",
      "λόγοσ RelatedTo word\n",
      "terminology IsA word\n",
      "arahan Synonym word\n",
      "単語 Synonym word\n",
      "word Synonym reč\n",
      "loanword IsA word\n",
      "word RelatedTo scripture\n",
      "anagram IsA word\n",
      "เวิร์ด Synonym word\n",
      "antonym IsA word\n",
      "fjale Synonym word\n",
      "form IsA word\n",
      "affix PartOf word\n",
      "hypernym IsA word\n",
      "metonym IsA word\n"
     ]
    }
   ],
   "source": [
    "for edge in word['edges'] + word2['edges']:\n",
    "    start = edge['start']['label']\n",
    "    end = edge['end']['label']\n",
    "    rel = edge['rel']['label']\n",
    "    print(f'{start} {rel} {end}')"
   ]
  },
  {
   "cell_type": "code",
   "execution_count": 40,
   "id": "6755f13a-dbd2-4ef1-9ef3-faec70d805e2",
   "metadata": {},
   "outputs": [],
   "source": [
    "VALID_RELS = (\n",
    "    'PartOf',\n",
    "    'IsA',\n",
    "    # 'CapableOf'\n",
    ")"
   ]
  },
  {
   "cell_type": "code",
   "execution_count": 46,
   "id": "14811e56-71a9-4e3c-b01f-66424e6c164b",
   "metadata": {},
   "outputs": [
    {
     "data": {
      "text/plain": [
       "{'@id': '/c/en/word?offset=0&limit=20',\n",
       " '@type': 'PartialCollectionView',\n",
       " 'comment': \"There are more results. Follow the 'nextPage' link for more.\",\n",
       " 'firstPage': '/c/en/word?offset=0&limit=20',\n",
       " 'nextPage': '/c/en/word?offset=20&limit=20',\n",
       " 'paginatedProperty': 'edges'}"
      ]
     },
     "execution_count": 46,
     "metadata": {},
     "output_type": "execute_result"
    }
   ],
   "source": [
    "word['view']"
   ]
  },
  {
   "cell_type": "code",
   "execution_count": 55,
   "id": "9edac829-aa5f-48f2-96a5-de398dd53050",
   "metadata": {},
   "outputs": [],
   "source": [
    "word2 = requests.get('http://api.conceptnet.io/c/en/word?offset=20&limit=20').json()"
   ]
  },
  {
   "cell_type": "code",
   "execution_count": 57,
   "id": "b2473196-9b73-4e71-b291-760f3136cd25",
   "metadata": {},
   "outputs": [
    {
     "data": {
      "text/plain": [
       "{'@id': '/c/en/word?offset=20&limit=20',\n",
       " '@type': 'PartialCollectionView',\n",
       " 'comment': \"There are more results. Follow the 'nextPage' link for more.\",\n",
       " 'firstPage': '/c/en/word?offset=0&limit=20',\n",
       " 'nextPage': '/c/en/word?offset=40&limit=20',\n",
       " 'paginatedProperty': 'edges',\n",
       " 'previousPage': '/c/en/word?offset=0&limit=20'}"
      ]
     },
     "execution_count": 57,
     "metadata": {},
     "output_type": "execute_result"
    }
   ],
   "source": [
    "word2['view']"
   ]
  }
 ],
 "metadata": {
  "kernelspec": {
   "display_name": "Python 3 (ipykernel)",
   "language": "python",
   "name": "python3"
  },
  "language_info": {
   "codemirror_mode": {
    "name": "ipython",
    "version": 3
   },
   "file_extension": ".py",
   "mimetype": "text/x-python",
   "name": "python",
   "nbconvert_exporter": "python",
   "pygments_lexer": "ipython3",
   "version": "3.12.2"
  }
 },
 "nbformat": 4,
 "nbformat_minor": 5
}
